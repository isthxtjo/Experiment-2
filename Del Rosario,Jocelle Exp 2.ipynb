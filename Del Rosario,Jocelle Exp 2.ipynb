{
 "cells": [
  {
   "cell_type": "markdown",
   "id": "11d93e56-e01f-4c22-98ad-34135364a3e5",
   "metadata": {},
   "source": [
    "# Experiment 2\n",
    "## Numerical Python (NUMPY)"
   ]
  },
  {
   "cell_type": "markdown",
   "id": "3ac03fa9-6602-4987-8885-0d1cecc05945",
   "metadata": {},
   "source": [
    "### Normalization Problem\n",
    "#### In this problem, it adjust the data by centering which means subtracting the mean from the data and scaling means dividing it to deviation.\n",
    "#### I use .mean and .std in calculating the mean and standard deviation"
   ]
  },
  {
   "cell_type": "code",
   "execution_count": 2,
   "id": "4c253100-310b-4a4c-988d-bac127b2b82e",
   "metadata": {},
   "outputs": [],
   "source": [
    "import numpy as np"
   ]
  },
  {
   "cell_type": "code",
   "execution_count": 3,
   "id": "17458876-cf4b-4d88-88f5-92e3057ec47e",
   "metadata": {},
   "outputs": [],
   "source": [
    "# Create a random 5x5 ndarray and store it to variable X\n",
    "X = np.random.rand(5, 5)"
   ]
  },
  {
   "cell_type": "code",
   "execution_count": 4,
   "id": "98ed6a21-a7b0-4707-af7d-6086dec2a6fa",
   "metadata": {},
   "outputs": [],
   "source": [
    "# Normalize X\n",
    "Xnormal = (X - X.mean()) / X.std()"
   ]
  },
  {
   "cell_type": "code",
   "execution_count": 5,
   "id": "e6db31e5-8b76-4bd3-96d7-409909449aed",
   "metadata": {},
   "outputs": [
    {
     "name": "stdout",
     "output_type": "stream",
     "text": [
      "[[ 1.29736732 -0.00374791 -0.06785726  1.68763919 -0.79220166]\n",
      " [-0.06299544 -0.44637501 -1.12340125 -1.07883481  0.10758626]\n",
      " [-0.6008941  -0.10567363  1.78478659 -0.71713765 -0.879398  ]\n",
      " [-0.43288934 -0.0955523  -1.36728729 -0.60110345  1.88814733]\n",
      " [-0.75001206  0.43498447  1.04119944  1.87914941 -0.99549886]]\n"
     ]
    }
   ],
   "source": [
    "# Display the normalized array\n",
    "print(Xnormal)"
   ]
  },
  {
   "cell_type": "code",
   "execution_count": 23,
   "id": "a0b8fe14-d3a7-49e2-8a54-24dd45cdf82f",
   "metadata": {},
   "outputs": [],
   "source": [
    "# Save the normalized array\n",
    "np.save('X_normalized.npy', Xnormal)"
   ]
  },
  {
   "cell_type": "markdown",
   "id": "73d787dd-af1c-4c3d-a3a4-51dfe716208a",
   "metadata": {},
   "source": [
    "## Divisible by 3 Problem\n",
    "#### In this problem, each elements in the 10x10 ndarray represents the square of the first 100 positive integers.\n",
    "#### the goal of this problem is to find all the elements that is divisible by 3."
   ]
  },
  {
   "cell_type": "code",
   "execution_count": 6,
   "id": "0e2cb5ac-4307-4eed-a821-24492f72d35b",
   "metadata": {},
   "outputs": [],
   "source": [
    "import numpy as np"
   ]
  },
  {
   "cell_type": "code",
   "execution_count": 8,
   "id": "6c0e78e8-e896-4f83-bfb7-a24c37cbda0e",
   "metadata": {},
   "outputs": [],
   "source": [
    "# create a 10x10 ndarray which are the squares of the first 100 positive integers\n",
    "A = np.arange(1, 101).reshape(10, 10) ** 2"
   ]
  },
  {
   "cell_type": "code",
   "execution_count": 10,
   "id": "10cd56fa-e1aa-478a-bfaf-5ca325b3405a",
   "metadata": {},
   "outputs": [],
   "source": [
    "# Know the elements that is divisible by 3\n",
    "div = A[A % 3 == 0]"
   ]
  },
  {
   "cell_type": "code",
   "execution_count": 12,
   "id": "82162182-4fe9-4cc8-ad13-cbbc7cce69d7",
   "metadata": {},
   "outputs": [
    {
     "name": "stdout",
     "output_type": "stream",
     "text": [
      "[   9   36   81  144  225  324  441  576  729  900 1089 1296 1521 1764\n",
      " 2025 2304 2601 2916 3249 3600 3969 4356 4761 5184 5625 6084 6561 7056\n",
      " 7569 8100 8649 9216 9801]\n"
     ]
    }
   ],
   "source": [
    "#display the array of elements that is divisible by 3\n",
    "print(div)"
   ]
  },
  {
   "cell_type": "code",
   "execution_count": 14,
   "id": "e7d07e62-474d-4ec3-ad17-bd8a66d5402c",
   "metadata": {},
   "outputs": [],
   "source": [
    "# Save the result\n",
    "np.save('div_by_3.npy', div)"
   ]
  },
  {
   "cell_type": "code",
   "execution_count": null,
   "id": "7a42ee71-994d-4009-b7d2-d6a2561b65ef",
   "metadata": {},
   "outputs": [],
   "source": []
  }
 ],
 "metadata": {
  "kernelspec": {
   "display_name": "Python 3 (ipykernel)",
   "language": "python",
   "name": "python3"
  },
  "language_info": {
   "codemirror_mode": {
    "name": "ipython",
    "version": 3
   },
   "file_extension": ".py",
   "mimetype": "text/x-python",
   "name": "python",
   "nbconvert_exporter": "python",
   "pygments_lexer": "ipython3",
   "version": "3.12.4"
  }
 },
 "nbformat": 4,
 "nbformat_minor": 5
}
